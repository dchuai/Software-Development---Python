{
 "cells": [
  {
   "cell_type": "code",
   "execution_count": 3,
   "id": "1412aca5",
   "metadata": {},
   "outputs": [
    {
     "name": "stdout",
     "output_type": "stream",
     "text": [
      "Open 9-5 daily\n"
     ]
    }
   ],
   "source": [
    "# 11.1 Create a file called zoo.py and define a function called hours()\n",
    "with open('zoo.py', 'w') as file:\n",
    "    file.write('def hours():\\n    print(\"Open 9-5 daily\")')\n",
    "\n",
    "# Use the interactive interpreter to import the zoo module and call its hours() function.\n",
    "#import zoo\n",
    "#zoo.hours()\n",
    "\n",
    "# 11.2 Import the zoo module as menagerie and call its hours() function.\n",
    "import zoo as menagerie\n",
    "menagerie.hours()\n"
   ]
  },
  {
   "cell_type": "code",
   "execution_count": 11,
   "id": "148a10c8",
   "metadata": {},
   "outputs": [],
   "source": [
    "import sqlite3\n",
    "\n",
    "# 16.4 Use the sqlite3 module to create a SQLite database and a table\n",
    "db = sqlite3.connect('books.db')\n",
    "curs = db.cursor()\n",
    "curs.execute('''CREATE TABLE IF NOT EXISTS book (title TEXT, author TEXT, year INTEGER)''')\n",
    "db.commit()\n",
    "\n"
   ]
  },
  {
   "cell_type": "code",
   "execution_count": 12,
   "id": "4d9d136c",
   "metadata": {},
   "outputs": [],
   "source": [
    "# 16.6 Select and print the title column from the book table in alphabetical order\n",
    "sql = 'SELECT title FROM book ORDER BY title ASC'\n",
    "for row in db.execute(sql):\n",
    "    print(row[0])\n"
   ]
  },
  {
   "cell_type": "code",
   "execution_count": 13,
   "id": "b578e495",
   "metadata": {},
   "outputs": [],
   "source": [
    "import sqlalchemy\n",
    "\n",
    "# 16.8 Use the sqlalchemy module to connect to the sqlite3 database\n",
    "conn = sqlalchemy.create_engine('sqlite:///books.db')\n",
    "sql = 'SELECT title FROM book ORDER BY title ASC'\n",
    "rows = conn.execute(sql)\n",
    "\n",
    "# Select and print the title column from the book table in alphabetical order\n",
    "for row in rows:\n",
    "    print(row[0])\n"
   ]
  },
  {
   "cell_type": "code",
   "execution_count": null,
   "id": "88d90616",
   "metadata": {},
   "outputs": [],
   "source": []
  }
 ],
 "metadata": {
  "kernelspec": {
   "display_name": "Python 3 (ipykernel)",
   "language": "python",
   "name": "python3"
  },
  "language_info": {
   "codemirror_mode": {
    "name": "ipython",
    "version": 3
   },
   "file_extension": ".py",
   "mimetype": "text/x-python",
   "name": "python",
   "nbconvert_exporter": "python",
   "pygments_lexer": "ipython3",
   "version": "3.11.5"
  }
 },
 "nbformat": 4,
 "nbformat_minor": 5
}
