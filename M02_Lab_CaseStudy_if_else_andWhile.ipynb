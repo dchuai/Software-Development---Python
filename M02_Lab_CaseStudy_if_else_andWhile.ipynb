{
 "cells": [
  {
   "cell_type": "code",
   "execution_count": 1,
   "id": "24609366",
   "metadata": {},
   "outputs": [
    {
     "name": "stdout",
     "output_type": "stream",
     "text": [
      "Enter the student's last name (or 'ZZZ' to quit): Smith\n",
      "Enter the student's first name: John\n",
      "Enter the student's GPA: 4.0\n",
      "John Smith has made the Dean's List.\n",
      "Enter the student's last name (or 'ZZZ' to quit): Chin\n",
      "Enter the student's first name: Sarah\n",
      "Enter the student's GPA: 3.7\n",
      "Sarah Chin has made the Dean's List.\n",
      "Enter the student's last name (or 'ZZZ' to quit): Bond\n",
      "Enter the student's first name: Jame\n",
      "Enter the student's GPA: 2.8\n",
      "Jame Bond did not qualify for Dean's List or Honor Roll.\n",
      "Enter the student's last name (or 'ZZZ' to quit): Pathway\n",
      "Enter the student's first name: Jacob\n",
      "Enter the student's GPA: 3.25\n",
      "Jacob Pathway has made the Honor Roll.\n",
      "Enter the student's last name (or 'ZZZ' to quit): Htwe\n",
      "Enter the student's first name: Hnin\n",
      "Enter the student's GPA: 3.70\n",
      "Hnin Htwe has made the Dean's List.\n",
      "Enter the student's last name (or 'ZZZ' to quit): Huai\n",
      "Enter the student's first name: DC\n",
      "Enter the student's GPA: 4.0\n",
      "DC Huai has made the Dean's List.\n",
      "Enter the student's last name (or 'ZZZ' to quit): ZZZ\n",
      "\n",
      "Qualifications:\n",
      "John Smith: GPA 4.0 - Dean's List\n",
      "Sarah Chin: GPA 3.7 - Dean's List\n",
      "Jame Bond: GPA 2.8 - Not Qualified\n",
      "Jacob Pathway: GPA 3.25 - Honor Roll\n",
      "Hnin Htwe: GPA 3.7 - Dean's List\n",
      "DC Huai: GPA 4.0 - Dean's List\n"
     ]
    }
   ],
   "source": [
    "# Name: Dim C. Huai\n",
    "# File Name: M02_Lab_CaseStudy_if_else_andWhile.py\n",
    "# Description: This Python app accepts student names and GPAs and tests if the student qualifies for the Dean's List or Honor Roll.\n",
    "\n",
    "# Initialize an empty list to store student records\n",
    "student_records = []\n",
    "\n",
    "# Define a function to check if a student qualifies for Dean's List or Honor Roll\n",
    "def check_qualification(gpa):\n",
    "    if gpa >= 3.5:\n",
    "        return \"Dean's List\"\n",
    "    elif gpa >= 3.25:\n",
    "        return \"Honor Roll\"\n",
    "    else:\n",
    "        return \"Not Qualified\"\n",
    "\n",
    "# Start accepting student records\n",
    "while True:\n",
    "    last_name = input(\"Enter the student's last name (or 'ZZZ' to quit): \")\n",
    "    \n",
    "    if last_name == 'ZZZ':\n",
    "        break\n",
    "    \n",
    "    first_name = input(\"Enter the student's first name: \")\n",
    "    gpa = float(input(\"Enter the student's GPA: \"))\n",
    "    \n",
    "    qualification = check_qualification(gpa)\n",
    "    \n",
    "    # Print the qualification message for the student\n",
    "    if qualification == \"Dean's List\":\n",
    "        print(f\"{first_name} {last_name} has made the Dean's List.\")\n",
    "    elif qualification == \"Honor Roll\":\n",
    "        print(f\"{first_name} {last_name} has made the Honor Roll.\")\n",
    "    else:\n",
    "        print(f\"{first_name} {last_name} did not qualify for Dean's List or Honor Roll.\")\n",
    "\n",
    "    # Add the student record to the list\n",
    "    student_records.append((last_name, first_name, gpa, qualification))\n",
    "\n",
    "# Print the qualifications for each student\n",
    "print(\"\\nQualifications:\")\n",
    "for last_name, first_name, gpa, qualification in student_records:\n",
    "    print(f\"{first_name} {last_name}: GPA {gpa} - {qualification}\")"
   ]
  },
  {
   "cell_type": "code",
   "execution_count": null,
   "id": "2d10d9ae",
   "metadata": {},
   "outputs": [],
   "source": []
  }
 ],
 "metadata": {
  "kernelspec": {
   "display_name": "Python 3 (ipykernel)",
   "language": "python",
   "name": "python3"
  },
  "language_info": {
   "codemirror_mode": {
    "name": "ipython",
    "version": 3
   },
   "file_extension": ".py",
   "mimetype": "text/x-python",
   "name": "python",
   "nbconvert_exporter": "python",
   "pygments_lexer": "ipython3",
   "version": "3.11.5"
  }
 },
 "nbformat": 4,
 "nbformat_minor": 5
}
