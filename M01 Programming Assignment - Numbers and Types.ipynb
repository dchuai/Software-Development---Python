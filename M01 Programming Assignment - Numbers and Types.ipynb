{
 "cells": [
  {
   "cell_type": "code",
   "execution_count": 4,
   "id": "35487556",
   "metadata": {},
   "outputs": [
    {
     "name": "stdout",
     "output_type": "stream",
     "text": [
      "sum =  19\n"
     ]
    }
   ],
   "source": [
    "# Section 3.1 through 3.6: Exercise Title \"Thinks To Do\"\n",
    "# Prompt: Create the output:inserting code to complete the interactive interpreter piece and adding markdown \n",
    "# Python Interactive Interpreter\n",
    "\n",
    "# Python code for the exercise test!\n",
    "x = 7\n",
    "y = 12\n",
    "result = x + y\n",
    "\n",
    "print(\"sum = \",result)\n"
   ]
  },
  {
   "cell_type": "code",
   "execution_count": 5,
   "id": "d1e2ba48",
   "metadata": {},
   "outputs": [
    {
     "name": "stdout",
     "output_type": "stream",
     "text": [
      "Number of seconds in an hour: 3600\n"
     ]
    }
   ],
   "source": [
    "# 3.1: Calculate the number of seconds in an hour\n",
    "seconds_in_a_minute = 60\n",
    "minutes_in_an_hour = 60\n",
    "seconds_per_hour = seconds_in_a_minute * minutes_in_an_hour\n",
    "print(\"Number of seconds in an hour:\", seconds_per_hour)"
   ]
  },
  {
   "cell_type": "code",
   "execution_count": 6,
   "id": "c69d68d1",
   "metadata": {},
   "outputs": [
    {
     "name": "stdout",
     "output_type": "stream",
     "text": [
      "seconds_per_hour = 3600\n"
     ]
    }
   ],
   "source": [
    "# 3.2: Assign the result to a variable called seconds_per_hour\n",
    "seconds_per_hour = 3600\n",
    "print(\"seconds_per_hour =\", seconds_per_hour)"
   ]
  },
  {
   "cell_type": "code",
   "execution_count": 10,
   "id": "243bf600",
   "metadata": {},
   "outputs": [
    {
     "name": "stdout",
     "output_type": "stream",
     "text": [
      "Number of seconds in a day (3600): 86400\n"
     ]
    }
   ],
   "source": [
    "# 3.3: Calculate the number of seconds in a day using seconds_per_hour\n",
    "seconds_in_an_hour = 3600  # 60 seconds/minute * 60 minutes/hour\n",
    "\n",
    "seconds_per_hour = seconds_in_an_hour\n",
    "\n",
    "seconds_per_day = seconds_per_hour * 24\n",
    "\n",
    "print(\"Number of seconds in a day (3600):\", seconds_per_day)"
   ]
  },
  {
   "cell_type": "code",
   "execution_count": 11,
   "id": "ccfe7523",
   "metadata": {},
   "outputs": [
    {
     "name": "stdout",
     "output_type": "stream",
     "text": [
      "Number of seconds in a day (calculated again): 86400\n"
     ]
    }
   ],
   "source": [
    "# 3.4: Calculate seconds per day again and save it in seconds_per_day\n",
    "seconds_per_day = seconds_in_an_hour * 24\n",
    "print(\"Number of seconds in a day (calculated again):\", seconds_per_day)"
   ]
  },
  {
   "cell_type": "code",
   "execution_count": 12,
   "id": "991213f1",
   "metadata": {},
   "outputs": [
    {
     "name": "stdout",
     "output_type": "stream",
     "text": [
      "Floating-point division result: 24.0\n"
     ]
    }
   ],
   "source": [
    "# 3.5: Divide seconds_per_day by seconds_per_hour using floating-point (/) division\n",
    "floating_point_division_result = seconds_per_day / seconds_per_hour\n",
    "print(\"Floating-point division result:\", floating_point_division_result)"
   ]
  },
  {
   "cell_type": "code",
   "execution_count": 14,
   "id": "4f2634d5",
   "metadata": {},
   "outputs": [
    {
     "name": "stdout",
     "output_type": "stream",
     "text": [
      "Integer division result: 24\n",
      "Do the results agree: True\n"
     ]
    }
   ],
   "source": [
    "# 3.6: Divide seconds_per_day by seconds_per_hour using integer (//) division\n",
    "integer_division_result = seconds_per_day // seconds_per_hour\n",
    "print(\"Integer division result:\", integer_division_result)\n",
    "# Check if the results agree\n",
    "results_agree = floating_point_division_result == integer_division_result\n",
    "print(\"Do the results agree:\", results_agree)"
   ]
  },
  {
   "cell_type": "code",
   "execution_count": null,
   "id": "d2391f3d",
   "metadata": {},
   "outputs": [],
   "source": []
  }
 ],
 "metadata": {
  "kernelspec": {
   "display_name": "Python 3 (ipykernel)",
   "language": "python",
   "name": "python3"
  },
  "language_info": {
   "codemirror_mode": {
    "name": "ipython",
    "version": 3
   },
   "file_extension": ".py",
   "mimetype": "text/x-python",
   "name": "python",
   "nbconvert_exporter": "python",
   "pygments_lexer": "ipython3",
   "version": "3.11.5"
  }
 },
 "nbformat": 4,
 "nbformat_minor": 5
}
