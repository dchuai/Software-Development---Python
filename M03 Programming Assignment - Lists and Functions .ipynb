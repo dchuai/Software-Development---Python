{
 "cells": [
  {
   "cell_type": "code",
   "execution_count": 23,
   "id": "8fd9fc56",
   "metadata": {},
   "outputs": [
    {
     "name": "stdout",
     "output_type": "stream",
     "text": [
      "['mozzarella', 'Cinderella', 'salmonella']\n",
      "['MOZZARELLA', 'Cinderella', 'salmonella']\n",
      "['MOZZARELLA', 'Cinderella']\n",
      "Congratulations! You've collected your metaphorical Nobel Prize. The result is: 42\n"
     ]
    }
   ],
   "source": [
    "# 7.4 Create a list called things with the given strings as elements\n",
    "things = [\"mozzarella\", \"cinderella\", \"salmonella\"]\n",
    "\n",
    "#7.5 Capitalize the element in things that refers to a person\n",
    "things[1] = things[1].capitalize()\n",
    "# Print the updated 'things' list\n",
    "print(things)\n",
    "\n",
    "#7.6 Make the cheesy element of things all uppercase\n",
    "things[0] = things[0].upper()\n",
    "# Print the list\n",
    "print(things)\n",
    "\n",
    "#7.7 Delete the disease element from things\n",
    "del things[2]\n",
    "# Print the list\n",
    "print(things)\n",
    "\n",
    "# Metaphorically,Calculate the sum of two numbers for collect my Nobel Prize \n",
    "MOZZARELLA = num1 = 17\n",
    "Cinderella = num2 = 25\n",
    "result = num1 + num2\n",
    "\n",
    "print(\"Congratulations! You've collected your metaphorical Nobel Prize. The result is:\", result)\n",
    " "
   ]
  },
  {
   "cell_type": "code",
   "execution_count": 22,
   "id": "ea359c67",
   "metadata": {
    "scrolled": true
   },
   "outputs": [
    {
     "name": "stdout",
     "output_type": "stream",
     "text": [
      "The third odd number is: 5\n"
     ]
    }
   ],
   "source": [
    "# 9.1 Define a function called good() that returns a specific list\n",
    "def good():\n",
    "    return ['Harry', 'Ron', 'Hermione']\n",
    "\n",
    "# 9.2 Define a generator function called get_odds that returns odd numbers from range(10)\n",
    "def get_odds():\n",
    "    for number in range(1, 10, 2):\n",
    "        yield number\n",
    "\n",
    "# Use a for loop to find and print the third value returned\n",
    "for i, odd_number in enumerate(get_odds(), 1):\n",
    "    if i == 3:\n",
    "        print(\"The third odd number is:\", odd_number)\n",
    "        break\n",
    "\n"
   ]
  }
 ],
 "metadata": {
  "kernelspec": {
   "display_name": "Python 3 (ipykernel)",
   "language": "python",
   "name": "python3"
  },
  "language_info": {
   "codemirror_mode": {
    "name": "ipython",
    "version": 3
   },
   "file_extension": ".py",
   "mimetype": "text/x-python",
   "name": "python",
   "nbconvert_exporter": "python",
   "pygments_lexer": "ipython3",
   "version": "3.11.5"
  }
 },
 "nbformat": 4,
 "nbformat_minor": 5
}
